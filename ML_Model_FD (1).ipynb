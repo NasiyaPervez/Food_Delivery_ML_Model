{
  "cells": [
    {
      "cell_type": "code",
      "execution_count": null,
      "id": "6e1f9219-c82b-4f07-b7f5-989c66bb856e",
      "metadata": {
        "id": "6e1f9219-c82b-4f07-b7f5-989c66bb856e",
        "collapsed": true
      },
      "outputs": [],
      "source": [
        "import pandas as pd\n",
        "import numpy as np\n",
        "import plotly.express as px\n",
        "\n",
        "# Read the dataset from a .txt file\n",
        "data = pd.read_csv('deliverytime.txt', delimiter=',')  # Adjust delimiter as needed\n",
        "\n",
        "# Print the first few rows of the dataset\n",
        "print(data.head())\n"
      ]
    },
    {
      "cell_type": "code",
      "execution_count": null,
      "id": "3a9ecf9d-9ee8-4f73-912e-c476aeac5d10",
      "metadata": {
        "id": "3a9ecf9d-9ee8-4f73-912e-c476aeac5d10"
      },
      "outputs": [],
      "source": [
        "# Get and print information about the dataset\n",
        "print(data.info())"
      ]
    },
    {
      "cell_type": "code",
      "execution_count": null,
      "id": "98e9e7c5-d9b8-406f-96b4-77b4c89aef18",
      "metadata": {
        "id": "98e9e7c5-d9b8-406f-96b4-77b4c89aef18"
      },
      "outputs": [],
      "source": [
        "# Check for null values in the dataset\n",
        "null_values = data.isnull().sum()\n",
        "print(\"Null values in each column:\")\n",
        "print(null_values)"
      ]
    },
    {
      "cell_type": "code",
      "execution_count": null,
      "id": "160a37ac-4229-4e9b-abc8-55919e150ef4",
      "metadata": {
        "id": "160a37ac-4229-4e9b-abc8-55919e150ef4"
      },
      "outputs": [],
      "source": [
        "import pandas as pd\n",
        "import numpy as np\n",
        "\n",
        "# Read the dataset from a .txt file\n",
        "data = pd.read_csv('deliverytime.txt', delimiter=',')  # Adjust delimiter as needed\n",
        "\n",
        "# Haversine formula to calculate the distance between two points\n",
        "def haversine_vectorized(lat1, lon1, lat2, lon2):\n",
        "    # Convert degrees to radians\n",
        "    lat1, lon1, lat2, lon2 = map(np.radians, [lat1, lon1, lat2, lon2])\n",
        "\n",
        "    # Haversine formula\n",
        "    dlon = lon2 - lon1\n",
        "    dlat = lat2 - lat1\n",
        "    a = np.sin(dlat / 2)**2 + np.cos(lat1) * np.cos(lat2) * np.sin(dlon / 2)**2\n",
        "    c = 2 * np.arctan2(np.sqrt(a), np.sqrt(1 - a))\n",
        "\n",
        "    # Earth's radius in kilometers\n",
        "    radius = 6371\n",
        "    distance = radius * c\n",
        "    return distance\n",
        "\n",
        "# Use the correct column names for latitude and longitude\n",
        "latitudes = data['Restaurant_latitude'].values  # Corrected spelling\n",
        "longitudes = data['Restaurant_longitude'].values  # Corrected spelling\n",
        "\n",
        "# Reference point (first restaurant)\n",
        "reference_lat = latitudes[0]\n",
        "reference_lon = longitudes[0]\n",
        "\n",
        "# Calculate distances from all restaurants to the reference restaurant\n",
        "data['distance_to_first_restaurant'] = haversine_vectorized(latitudes, longitudes, reference_lat, reference_lon)\n",
        "\n",
        "# Print the updated DataFrame with distances\n",
        "print(\"Updated DataFrame with distances:\")\n",
        "print(data[['Restaurant_latitude', 'Restaurant_longitude', 'distance_to_first_restaurant']].head())"
      ]
    },
    {
      "cell_type": "code",
      "execution_count": null,
      "id": "e20f98eb-df33-42c4-b000-1744cddd760f",
      "metadata": {
        "id": "e20f98eb-df33-42c4-b000-1744cddd760f"
      },
      "outputs": [],
      "source": [
        "import pandas as pd\n",
        "import numpy as np\n",
        "\n",
        "# Set the earth's radius (in kilometers)\n",
        "R = 6371\n",
        "\n",
        "# Convert degrees to radians\n",
        "def deg_to_rad(degrees):\n",
        "    return degrees * (np.pi / 180)\n",
        "\n",
        "# Function to calculate the distance between two points using the haversine formula\n",
        "def distcalculate(lat1, lon1, lat2, lon2):\n",
        "    d_lat = deg_to_rad(lat2 - lat1)\n",
        "    d_lon = deg_to_rad(lon2 - lon1)\n",
        "    a = np.sin(d_lat / 2) ** 2 + np.cos(deg_to_rad(lat1)) * np.cos(deg_to_rad(lat2)) * np.sin(d_lon / 2) ** 2\n",
        "    c = 2 * np.arctan2(np.sqrt(a), np.sqrt(1 - a))\n",
        "    return R * c\n",
        "\n",
        "# Read the dataset from a .txt file\n",
        "data = pd.read_csv('deliverytime.txt', delimiter=',')  # Adjust delimiter as needed\n",
        "\n",
        "# Extract latitude and longitude columns as NumPy arrays\n",
        "restaurant_latitudes = data['Restaurant_latitude'].values\n",
        "restaurant_longitudes = data['Restaurant_longitude'].values\n",
        "delivery_latitudes = data['Delivery_location_latitude'].values\n",
        "delivery_longitudes = data['Delivery_location_longitude'].values\n",
        "\n",
        "# Calculate the distances in a vectorized manner\n",
        "distances = distcalculate(restaurant_latitudes, restaurant_longitudes, delivery_latitudes, delivery_longitudes)\n",
        "\n",
        "# Assign the distances back to the DataFrame\n",
        "data['distance'] = distances\n",
        "\n",
        "# Print the updated DataFrame with distances\n",
        "print(data[['Restaurant_latitude', 'Restaurant_longitude', 'Delivery_location_latitude', 'Delivery_location_longitude', 'distance']].head())"
      ]
    },
    {
      "cell_type": "code",
      "execution_count": null,
      "id": "37369ba0-aa78-42d5-b6ea-410f457dee07",
      "metadata": {
        "id": "37369ba0-aa78-42d5-b6ea-410f457dee07"
      },
      "outputs": [],
      "source": [
        "import pandas as pd\n",
        "import numpy as np\n",
        "import plotly.express as px\n",
        "import statsmodels.api as sm\n",
        "\n",
        "# Sample DataFrame creation (replace this with your actual DataFrame)\n",
        "# data = pd.DataFrame({\n",
        "#     'distance': [1, 2, 3, 4, 5],  # Example distances\n",
        "#     'time_taken(min)': [10, 20, 30, 40, 50]  # Example time taken values\n",
        "# })\n",
        "\n",
        "# Assuming 'data' is your DataFrame with 'distance' and 'time_taken(min)' columns already available\n",
        "# Fit a linear regression model to the data\n",
        "X = data['distance']\n",
        "y = data['time_taken(min)']\n",
        "X = sm.add_constant(X)  # Adds a constant term to the predictor\n",
        "model = sm.OLS(y, X).fit()  # Fit the model\n",
        "predictions = model.predict(X)  # Make predictions\n",
        "\n",
        "# Add predictions to the DataFrame for plotting\n",
        "data['predicted_time'] = predictions\n",
        "\n",
        "# Create a scatter plot with Plotly Express\n",
        "fig = px.scatter(data_frame=data,\n",
        "                 x='distance',\n",
        "                 y='time_taken(min)',  # Use the exact column name\n",
        "                 size='time_taken(min)',  # Use the exact column name for size\n",
        "                 title='Relationship between Distance and Time Taken',\n",
        "                 labels={'distance': 'Distance (km)', 'time_taken(min)': 'Time Taken (min)'},\n",
        "                 hover_name=data.index,  # Show index on hover\n",
        "                 size_max=20)  # Maximum marker size\n",
        "\n",
        "# Add OLS trendline\n",
        "fig.add_scatter(x=data['distance'], y=data['predicted_time'], mode='lines', name='OLS Trendline', line=dict(color='red'))\n",
        "\n",
        "# Show the plot\n",
        "fig.show()\n"
      ]
    },
    {
      "cell_type": "code",
      "execution_count": null,
      "id": "db7b2e05-3b1d-4557-a803-122d9b27ffb6",
      "metadata": {
        "id": "db7b2e05-3b1d-4557-a803-122d9b27ffb6"
      },
      "outputs": [],
      "source": [
        "import pandas as pd\n",
        "import plotly.express as px\n",
        "\n",
        "# Assuming 'data' is your DataFrame with 'distance' and 'Time_taken(min)' columns already available\n",
        "\n",
        "# Create a scatter plot with Plotly Express\n",
        "figure = px.scatter(data_frame=data,\n",
        "                    x=\"distance\",\n",
        "                    y=\"Time_taken(min)\",\n",
        "                    size=\"Time_taken(min)\",\n",
        "                    trendline=\"ols\",\n",
        "                    title=\"Relationship Between Distance and Time Taken\")\n",
        "\n",
        "# Update y-axis to show specific ticks\n",
        "figure.update_yaxes(tickvals=[0, 10, 20, 30, 40, 50, 60],  # Adjust this list as needed\n",
        "                    title_text=\"Time Taken (min)\")\n",
        "\n",
        "# Show the plot\n",
        "figure.show()\n"
      ]
    },
    {
      "cell_type": "code",
      "execution_count": null,
      "id": "67788a34-3716-47d8-b2fa-169bad7720a3",
      "metadata": {
        "id": "67788a34-3716-47d8-b2fa-169bad7720a3"
      },
      "outputs": [],
      "source": [
        "import pandas as pd\n",
        "import plotly.express as px\n",
        "\n",
        "# Assuming 'data' is your DataFrame with 'Delivery_person_Age', 'Time_taken(min)', and 'distance' columns\n",
        "\n",
        "# Create a scatter plot with Plotly Express\n",
        "figure_age_time = px.scatter(data_frame=data,\n",
        "                              x=\"Delivery_person_Age\",  # Corrected column name\n",
        "                              y=\"Time_taken(min)\",\n",
        "                              size=\"Time_taken(min)\",\n",
        "                              color=\"distance\",  # Color by distance\n",
        "                              trendline=\"ols\",\n",
        "                              title=\"Relationship Between Time Taken and Age\",\n",
        "                              labels={\"Delivery_person_Age\": \"Delivery Person Age\",\n",
        "                                      \"Time_taken(min)\": \"Time Taken (min)\",\n",
        "                                      \"distance\": \"Distance (km)\"})  # Custom labels\n",
        "\n",
        "# Update y-axis to show specific ticks (optional)\n",
        "max_time = data[\"Time_taken(min)\"].max()\n",
        "tickvals = list(range(0, int(max_time) + 10, 10))  # Generates ticks from 0 to max_time with an interval of 10\n",
        "figure_age_time.update_yaxes(tickvals=tickvals, title_text=\"Time Taken (min)\")\n",
        "\n",
        "# Show the plot\n",
        "figure_age_time.show()\n"
      ]
    },
    {
      "cell_type": "code",
      "execution_count": null,
      "id": "03cc5fc5-8d05-46ae-ad12-7397ee4e0809",
      "metadata": {
        "id": "03cc5fc5-8d05-46ae-ad12-7397ee4e0809"
      },
      "outputs": [],
      "source": [
        "import pandas as pd\n",
        "import plotly.express as px\n",
        "\n",
        "# Assuming 'data' is your DataFrame with 'Delivery_person_Ratings' and 'Time_taken(min)' columns\n",
        "\n",
        "# Create a scatter plot with Plotly Express\n",
        "figure_ratings_time = px.scatter(data_frame=data,\n",
        "                                  x=\"Delivery_person_Ratings\",  # X-axis set to Delivery_person_Ratings\n",
        "                                  y=\"Time_taken(min)\",\n",
        "                                  size=\"Time_taken(min)\",\n",
        "                                  color=\"distance\",  # Color by distance\n",
        "                                  trendline=\"ols\",\n",
        "                                  title=\"Relationship Between Time Taken and Delivery Person Ratings\",\n",
        "                                  labels={\"Delivery_person_Ratings\": \"Delivery Person Ratings\",\n",
        "                                          \"Time_taken(min)\": \"Time Taken (min)\",\n",
        "                                          \"distance\": \"Distance (km)\"})  # Custom labels\n",
        "\n",
        "# Update y-axis to show specific ticks (optional)\n",
        "max_time = data[\"Time_taken(min)\"].max()\n",
        "tickvals = list(range(0, int(max_time) + 10, 10))  # Generates ticks from 0 to max_time with an interval of 10\n",
        "figure_ratings_time.update_yaxes(tickvals=tickvals, title_text=\"Time Taken (min)\")\n",
        "\n",
        "# Show the plot\n",
        "figure_ratings_time.show()\n"
      ]
    },
    {
      "cell_type": "code",
      "execution_count": null,
      "id": "c756e85f-7df4-4202-8339-3595413abe65",
      "metadata": {
        "id": "c756e85f-7df4-4202-8339-3595413abe65"
      },
      "outputs": [],
      "source": [
        "import pandas as pd\n",
        "import plotly.express as px\n",
        "\n",
        "# Assuming 'data' is your DataFrame with 'Type_of_vehicle', 'Time_taken(min)', and 'Type_of_order' columns\n",
        "\n",
        "# Create a box plot with Plotly Express\n",
        "figure_box = px.box(data_frame=data,\n",
        "                    x=\"Type_of_vehicle\",  # X-axis set to Type_of_vehicle\n",
        "                    y=\"Time_taken(min)\",\n",
        "                    color=\"Type_of_order\",  # Color by Type_of_order\n",
        "                    title=\"Box Plot of Time Taken by Type of Vehicle and Order Type\",\n",
        "                    labels={\"Type_of_vehicle\": \"Type of Vehicle\",\n",
        "                            \"Time_taken(min)\": \"Time Taken (min)\",\n",
        "                            \"Type_of_order\": \"Type of Order\"})  # Custom labels\n",
        "\n",
        "# Show the plot\n",
        "figure_box.show()\n"
      ]
    },
    {
      "cell_type": "code",
      "execution_count": null,
      "id": "5841bfad-efe1-48e6-86dc-0b502553115a",
      "metadata": {
        "id": "5841bfad-efe1-48e6-86dc-0b502553115a"
      },
      "outputs": [],
      "source": [
        "import pandas as pd\n",
        "import numpy as np\n",
        "from sklearn.model_selection import train_test_split\n",
        "from keras.models import Sequential\n",
        "from keras.layers import Dense, LSTM\n",
        "\n",
        "# Assuming 'data' is your DataFrame containing the relevant columns\n",
        "# Prepare the features and target variable\n",
        "X = np.array(data[['Delivery_person_Age', 'Delivery_person_Ratings', 'distance']])  # Features\n",
        "y = np.array(data['Time_taken(min)'])  # Target variable\n",
        "\n",
        "# Split the data into training and testing sets\n",
        "X_train, X_test, y_train, y_test = train_test_split(X, y, test_size=0.10, random_state=42)\n",
        "\n",
        "# Reshape the input data for LSTM\n",
        "# LSTM expects input in the shape of (samples, time steps, features)\n",
        "# Here we can set time steps to 1 since we are predicting based on static features\n",
        "X_train = X_train.reshape((X_train.shape[0], 1, X_train.shape[1]))\n",
        "X_test = X_test.reshape((X_test.shape[0], 1, X_test.shape[1]))\n",
        "\n",
        "# Build the LSTM model\n",
        "model = Sequential()\n",
        "model.add(LSTM(50, activation='relu', input_shape=(X_train.shape[1], X_train.shape[2])))  # LSTM layer\n",
        "model.add(Dense(1))  # Output layer for regression\n",
        "\n",
        "# Compile the model\n",
        "model.compile(optimizer='adam', loss='mean_squared_error')"
      ]
    },
    {
      "cell_type": "code",
      "execution_count": null,
      "id": "cc9ebf3d-3365-4321-a44a-36038ef4d38f",
      "metadata": {
        "id": "cc9ebf3d-3365-4321-a44a-36038ef4d38f"
      },
      "outputs": [],
      "source": [
        "import pandas as pd\n",
        "import numpy as np\n",
        "from sklearn.model_selection import train_test_split\n",
        "from sklearn.metrics import mean_squared_error\n",
        "\n",
        "# Load your data into a DataFrame\n",
        "data = pd.read_csv('deliverytime.txt')  # Replace with your actual file path\n",
        "\n",
        "# Prepare the features and target variable\n",
        "X = np.array(data[['Delivery_person_Age', 'Delivery_person_Ratings', 'distance']])  # Features\n",
        "y = np.array(data['Time_taken(min)'])  # Target variable\n",
        "\n",
        "# Split the data into training and testing sets\n",
        "X_train, X_test, y_train, y_test = train_test_split(X, y, test_size=0.2, random_state=42)"
      ]
    },
    {
      "cell_type": "code",
      "execution_count": null,
      "id": "85058bdd-e796-4537-a041-f0e9a11dfb6f",
      "metadata": {
        "id": "85058bdd-e796-4537-a041-f0e9a11dfb6f"
      },
      "outputs": [],
      "source": [
        "import pandas as pd\n",
        "import numpy as np\n",
        "from sklearn.model_selection import train_test_split\n",
        "from sklearn.metrics import mean_squared_error\n",
        "\n",
        "# Load your data into a DataFrame\n",
        "data = pd.read_csv('deliverytime.txt')  # Replace with your actual file path\n",
        "\n",
        "# Print column names to debug\n",
        "print(data.columns)\n",
        "\n",
        "# Strip whitespace from column names\n",
        "data.columns = data.columns.str.strip()\n",
        "\n",
        "# Prepare the features and target variable\n",
        "X = np.array(data[['Delivery_person_Age', 'Delivery_person_Ratings', 'distance']])  # Update if necessary\n",
        "y = np.array(data['Time_taken(min)'])  # Target variable\n",
        "\n",
        "# Split the data into training and testing sets\n",
        "X_train, X_test, y_train, y_test = train_test_split(X, y, test_size=0.2, random_state=42)\n"
      ]
    },
    {
      "cell_type": "code",
      "execution_count": null,
      "id": "df5d7d8c-f1bb-4dff-85dd-b9dca675a015",
      "metadata": {
        "id": "df5d7d8c-f1bb-4dff-85dd-b9dca675a015"
      },
      "outputs": [],
      "source": [
        "import pandas as pd\n",
        "import numpy as np\n",
        "\n",
        "# Set the earth's radius (in kilometers)\n",
        "R = 6371\n",
        "\n",
        "# Convert degrees to radians\n",
        "def deg_to_rad(degrees):\n",
        "    return degrees * (np.pi / 180)\n",
        "\n",
        "# Function to calculate the distance between two points using the haversine formula\n",
        "def distcalculate(lat1, lon1, lat2, lon2):\n",
        "    d_lat = deg_to_rad(lat2 - lat1)\n",
        "    d_lon = deg_to_rad(lon2 - lon1)\n",
        "    a = np.sin(d_lat / 2) ** 2 + np.cos(deg_to_rad(lat1)) * np.cos(deg_to_rad(lat2)) * np.sin(d_lon / 2) ** 2\n",
        "    c = 2 * np.arctan2(np.sqrt(a), np.sqrt(1 - a))\n",
        "    return R * c\n",
        "\n",
        "# Read the dataset from a .txt file\n",
        "data = pd.read_csv('deliverytime.txt', delimiter=',')  # Adjust delimiter as needed\n",
        "\n",
        "# Extract latitude and longitude columns as NumPy arrays\n",
        "restaurant_latitudes = data['Restaurant_latitude'].values\n",
        "restaurant_longitudes = data['Restaurant_longitude'].values\n",
        "delivery_latitudes = data['Delivery_location_latitude'].values\n",
        "delivery_longitudes = data['Delivery_location_longitude'].values\n",
        "\n",
        "# Calculate the distances in a vectorized manner\n",
        "distances = distcalculate(restaurant_latitudes, restaurant_longitudes, delivery_latitudes, delivery_longitudes)\n",
        "\n",
        "# Assign the distances back to the DataFrame\n",
        "data['distance'] = distances\n",
        "\n",
        "# Print the updated DataFrame with distances\n",
        "print(data[['Restaurant_latitude', 'Restaurant_longitude', 'Delivery_location_latitude', 'Delivery_location_longitude', 'distance']].head())"
      ]
    },
    {
      "cell_type": "code",
      "execution_count": null,
      "id": "0a0628ca-c132-4598-881c-04f543522bb3",
      "metadata": {
        "id": "0a0628ca-c132-4598-881c-04f543522bb3"
      },
      "outputs": [],
      "source": [
        "import pandas as pd\n",
        "\n",
        "# Load your data into a DataFrame\n",
        "data = pd.read_csv('deliverytime.txt')  # Replace with your actual file path\n",
        "\n",
        "# Print column names to debug\n",
        "print(\"Columns in the DataFrame:\", data.columns)\n",
        "\n",
        "# Strip whitespace from column names\n",
        "data.columns = data.columns.str.strip()\n",
        "\n",
        "# Print columns again to confirm stripping worked\n",
        "print(\"Stripped Columns:\", data.columns)\n"
      ]
    },
    {
      "cell_type": "code",
      "execution_count": null,
      "id": "94e8b43b-3a35-4646-94b2-c33b29e98eb0",
      "metadata": {
        "id": "94e8b43b-3a35-4646-94b2-c33b29e98eb0"
      },
      "outputs": [],
      "source": [
        "import pandas as pd\n",
        "import numpy as np\n",
        "from sklearn.model_selection import train_test_split\n",
        "from sklearn.metrics import mean_squared_error\n",
        "\n",
        "# Load your data into a DataFrame\n",
        "data = pd.read_csv('deliverytime.txt')  # Replace with your actual file path\n",
        "\n",
        "# Strip whitespace from column names\n",
        "data.columns = data.columns.str.strip()\n",
        "\n",
        "# Check if the distance column exists\n",
        "if 'distances' in data.columns:\n",
        "    print(\"Distance column found!\")\n",
        "else:\n",
        "    print(\"Distance column not found. Available columns:\", data.columns.tolist())\n",
        "\n",
        "# If the distance was calculated previously, ensure to check the DataFrame\n",
        "# For example, if you calculated it like this:\n",
        "# data['distances'] = your_distance_calculation_function()\n",
        "\n",
        "# Print the first few rows to see if distances are present\n",
        "print(data.head())\n",
        "\n",
        "# Prepare the features and target variable if distances are present\n",
        "if 'distances' in data.columns:\n",
        "    X = np.array(data[['Delivery_person_Age', 'Delivery_person_Ratings', 'distances']])\n",
        "    y = np.array(data['Time_taken(min)'])  # Target variable\n",
        "\n",
        "    # Split the data into training and testing sets\n",
        "    X_train, X_test, y_train, y_test = train_test_split(X, y, test_size=0.2, random_state=42)\n"
      ]
    },
    {
      "cell_type": "code",
      "execution_count": null,
      "id": "2f854ce0-a508-4cc9-99c2-8fa0a9db6af4",
      "metadata": {
        "id": "2f854ce0-a508-4cc9-99c2-8fa0a9db6af4"
      },
      "outputs": [],
      "source": [
        "import pandas as pd\n",
        "import numpy as np\n",
        "\n",
        "# Load your data into a DataFrame\n",
        "data = pd.read_csv('deliverytime.txt')  # Replace with your actual file path\n",
        "\n",
        "# Strip whitespace from column names\n",
        "data.columns = data.columns.str.strip()\n",
        "\n",
        "# Define the Haversine function\n",
        "def haversine(lat1, lon1, lat2, lon2):\n",
        "    # Convert degrees to radians\n",
        "    lat1, lon1, lat2, lon2 = map(np.radians, [lat1, lon1, lat2, lon2])\n",
        "    # Haversine formula\n",
        "    dlon = lon2 - lon1\n",
        "    dlat = lat2 - lat1\n",
        "    a = np.sin(dlat/2)**2 + np.cos(lat1) * np.cos(lat2) * np.sin(dlon/2)**2\n",
        "    c = 2 * np.arcsin(np.sqrt(a))\n",
        "    r = 6371  # Radius of Earth in kilometers\n",
        "    return c * r\n",
        "\n",
        "# Calculate the distance and add it as a new column\n",
        "data['distance'] = haversine(data['Restaurant_latitude'], data['Restaurant_longitude'],\n",
        "                              data['Delivery_location_latitude'], data['Delivery_location_longitude'])\n",
        "\n",
        "# Verify that the distance column has been added\n",
        "print(\"Distance column added. Available columns:\", data.columns.tolist())\n",
        "print(data[['ID', 'distance']].head())  # Display the ID and distance columns\n"
      ]
    },
    {
      "cell_type": "code",
      "execution_count": null,
      "id": "7a186658-1c8d-40aa-8473-60b1614a4d88",
      "metadata": {
        "id": "7a186658-1c8d-40aa-8473-60b1614a4d88"
      },
      "outputs": [],
      "source": [
        "import pandas as pd\n",
        "import numpy as np\n",
        "from sklearn.model_selection import train_test_split\n",
        "from keras.models import Sequential\n",
        "from keras.layers import Dense, LSTM, Dropout\n",
        "\n",
        "# Load your data into a DataFrame\n",
        "data = pd.read_csv('deliverytime.txt')  # Replace with your actual file path\n",
        "\n",
        "# Strip whitespace from column names\n",
        "data.columns = data.columns.str.strip()\n",
        "\n",
        "# Define the Haversine function (if not already defined)\n",
        "def haversine(lat1, lon1, lat2, lon2):\n",
        "    lat1, lon1, lat2, lon2 = map(np.radians, [lat1, lon1, lat2, lon2])\n",
        "    dlon = lon2 - lon1\n",
        "    dlat = lat2 - lat1\n",
        "    a = np.sin(dlat/2)**2 + np.cos(lat1) * np.cos(lat2) * np.sin(dlon/2)**2\n",
        "    c = 2 * np.arcsin(np.sqrt(a))\n",
        "    r = 6371  # Radius of Earth in kilometers\n",
        "    return c * r\n",
        "\n",
        "# Calculate the distance and add it as a new column\n",
        "data['distance'] = haversine(data['Restaurant_latitude'], data['Restaurant_longitude'],\n",
        "                              data['Delivery_location_latitude'], data['Delivery_location_longitude'])\n",
        "\n",
        "# Prepare features and target variable\n",
        "X = np.array(data[['Delivery_person_Age', 'Delivery_person_Ratings', 'distance']])\n",
        "y = np.array(data['Time_taken(min)'])  # Target variable\n",
        "\n",
        "# Split the data into training and testing sets\n",
        "X_train, X_test, y_train, y_test = train_test_split(X, y, test_size=0.2, random_state=42)\n",
        "\n",
        "# Reshape the data for LSTM (samples, time steps, features)\n",
        "X_train = X_train.reshape((X_train.shape[0], 1, X_train.shape[1]))\n",
        "X_test = X_test.reshape((X_test.shape[0], 1, X_test.shape[1]))\n",
        "\n",
        "# Build the LSTM model\n",
        "model = Sequential()\n",
        "model.add(LSTM(20, activation='relu', input_shape=(X_train.shape[1], X_train.shape[2])))\n",
        "model.add(Dense(1))  # Output layer\n"
      ]
    },
    {
      "cell_type": "code",
      "execution_count": null,
      "id": "ffe264b8-134f-4272-8a34-39b1a5093ede",
      "metadata": {
        "id": "ffe264b8-134f-4272-8a34-39b1a5093ede"
      },
      "outputs": [],
      "source": [
        "pip list"
      ]
    },
    {
      "cell_type": "code",
      "execution_count": null,
      "id": "f4411fe5-bce4-474d-af06-be8c1b77d38b",
      "metadata": {
        "id": "f4411fe5-bce4-474d-af06-be8c1b77d38b"
      },
      "outputs": [],
      "source": [
        "pip install keras.models"
      ]
    },
    {
      "cell_type": "code",
      "execution_count": null,
      "id": "1fb7ec04-4a7b-4cdb-ac33-ca0ce93794df",
      "metadata": {
        "id": "1fb7ec04-4a7b-4cdb-ac33-ca0ce93794df"
      },
      "outputs": [],
      "source": [
        "pip install keras.layers"
      ]
    },
    {
      "cell_type": "code",
      "execution_count": null,
      "id": "22f81ce0-83bd-4061-b529-e425177b1d90",
      "metadata": {
        "id": "22f81ce0-83bd-4061-b529-e425177b1d90"
      },
      "outputs": [],
      "source": [
        "pip install keras"
      ]
    },
    {
      "cell_type": "code",
      "execution_count": null,
      "id": "455aea06-08fb-4891-94be-8095b2d4602c",
      "metadata": {
        "id": "455aea06-08fb-4891-94be-8095b2d4602c"
      },
      "outputs": [],
      "source": [
        "pip install tensorflow"
      ]
    },
    {
      "cell_type": "code",
      "execution_count": null,
      "id": "96b0ce8b-3cf0-415a-8d73-face96fd5053",
      "metadata": {
        "id": "96b0ce8b-3cf0-415a-8d73-face96fd5053"
      },
      "outputs": [],
      "source": [
        "# Import necessary libraries\n",
        "import pandas as pd\n",
        "import numpy as np\n",
        "from sklearn.model_selection import train_test_split\n",
        "from tensorflow.keras.models import Sequential\n",
        "from tensorflow.keras.layers import Dense, LSTM, Dropout\n",
        "\n",
        "# Load your data into a DataFrame\n",
        "data = pd.read_csv('deliverytime.txt')  # Replace with your actual file path\n",
        "\n",
        "# Strip whitespace from column names\n",
        "data.columns = data.columns.str.strip()\n",
        "\n",
        "# Example data preparation (assuming you already have the distance calculated)\n",
        "X = np.array(data[['Delivery_person_Age', 'Delivery_person_Ratings', 'distance']])\n",
        "y = np.array(data['Time_taken(min)'])\n",
        "\n",
        "# Split the data\n",
        "X_train, X_test, y_train, y_test = train_test_split(X, y, test_size=0.2, random_state=42)\n",
        "\n",
        "# Reshape for LSTM\n",
        "X_train = X_train.reshape((X_train.shape[0], 1, X_train.shape[1]))\n",
        "X_test = X_test.reshape((X_test.shape[0], 1, X_test.shape[1]))\n",
        "\n",
        "# Build the LSTM model\n",
        "model = Sequential()\n",
        "model.add(LSTM(50, activation='relu', input_shape=(X_train.shape[1], X_train.shape[2])))\n",
        "model.add(Dropout(0.2))\n",
        "model.add(Dense(1))\n",
        "\n",
        "# Compile the model\n",
        "model.compile(optimizer='adam', loss='mean_squared_error')\n",
        "\n",
        "# Train the model\n",
        "model.fit(X_train, y_train, epochs=10, batch_size=16, validation_data=(X_test, y_test))"
      ]
    },
    {
      "cell_type": "code",
      "execution_count": null,
      "id": "13ddc594-e625-4256-8691-6547d1b0f77c",
      "metadata": {
        "id": "13ddc594-e625-4256-8691-6547d1b0f77c"
      },
      "outputs": [],
      "source": [
        "import pandas as pd\n",
        "import numpy as np\n",
        "from sklearn.model_selection import train_test_split\n",
        "from sklearn.ensemble import RandomForestRegressor\n",
        "from sklearn.metrics import mean_squared_error\n",
        "\n",
        "# Load your data\n",
        "data = pd.read_csv('deliverytime.txt')  # Replace with your actual file path\n",
        "data.columns = data.columns.str.strip()\n",
        "\n",
        "# Prepare features and target variable\n",
        "X = data[['Delivery_person_Age', 'Delivery_person_Ratings', 'distance']]\n",
        "y = data['Time_taken(min)']\n",
        "\n",
        "# Split the data\n",
        "X_train, X_test, y_train, y_test = train_test_split(X, y, test_size=0.2, random_state=42)\n",
        "\n",
        "# Create and train the model\n",
        "model = RandomForestRegressor(n_estimators=100, random_state=42)\n",
        "model.fit(X_train, y_train)\n",
        "\n",
        "# Make predictions\n",
        "y_pred = model.predict(X_test)\n",
        "\n",
        "# Evaluate the model\n",
        "mse = mean_squared_error(y_test, y_pred)\n",
        "print(f'Mean Squared Error: {mse}')\n"
      ]
    },
    {
      "cell_type": "code",
      "execution_count": null,
      "id": "4cc608bf-ec3a-42d2-a999-7581c4c6bdfb",
      "metadata": {
        "id": "4cc608bf-ec3a-42d2-a999-7581c4c6bdfb"
      },
      "outputs": [],
      "source": [
        "import pandas as pd\n",
        "import numpy as np\n",
        "\n",
        "# Load your data into a DataFrame\n",
        "data = pd.read_csv('deliverytime.txt')  # Replace with your actual file path\n",
        "\n",
        "# Strip whitespace from column names\n",
        "data.columns = data.columns.str.strip()\n",
        "\n",
        "# Define the Haversine function\n",
        "def haversine(lat1, lon1, lat2, lon2):\n",
        "    # Convert degrees to radians\n",
        "    lat1, lon1, lat2, lon2 = map(np.radians, [lat1, lon1, lat2, lon2])\n",
        "    # Haversine formula\n",
        "    dlon = lon2 - lon1\n",
        "    dlat = lat2 - lat1\n",
        "    a = np.sin(dlat/2)**2 + np.cos(lat1) * np.cos(lat2) * np.sin(dlon/2)**2\n",
        "    c = 2 * np.arcsin(np.sqrt(a))\n",
        "    r = 6371  # Radius of Earth in kilometers\n",
        "    return c * r\n",
        "\n",
        "# Calculate the distance and add it as a new column\n",
        "data['distance'] = haversine(data['Restaurant_latitude'], data['Restaurant_longitude'],\n",
        "                              data['Delivery_location_latitude'], data['Delivery_location_longitude'])\n",
        "\n",
        "# Verify that the distance column has been added\n",
        "print(\"Distance column added. Available columns:\", data.columns.tolist())\n",
        "print(data[['ID', 'distance']].head())  # Display the ID and distance columns\n",
        "\n",
        "data['distance'] = data.apply(calculate_distance, axis=1)\n",
        "\n",
        "# Save the updated DataFrame back to the text file\n",
        "data.to_txt('deliverytime.txt', index=False)"
      ]
    },
    {
      "cell_type": "code",
      "execution_count": null,
      "id": "ffec2538-d238-4382-9de7-3be2567c4c6e",
      "metadata": {
        "id": "ffec2538-d238-4382-9de7-3be2567c4c6e"
      },
      "outputs": [],
      "source": [
        "#splitting data\n",
        "from sklearn.model_selection import train_test_split\n",
        "x = np.array(data[[\"Delivery_person_Age\",\n",
        "                   \"Delivery_person_Ratings\",\n",
        "                   \"distance\"]])\n",
        "y = np.array(data[[\"Time_taken(min)\"]])\n",
        "xtrain, xtest, ytrain, ytest = train_test_split(x, y,\n",
        "                                                test_size=0.10,\n",
        "                                                random_state=42)\n",
        "\n",
        "# creating the LSTM neural network model\n",
        "from keras.models import Sequential\n",
        "from keras.layers import Dense, LSTM\n",
        "model = Sequential()\n",
        "model.add(LSTM(128, return_sequences=True, input_shape= (xtrain.shape[1], 1)))\n",
        "model.add(LSTM(64, return_sequences=False))\n",
        "model.add(Dense(25))\n",
        "model.add(Dense(1))\n",
        "model.summary()"
      ]
    },
    {
      "cell_type": "code",
      "execution_count": null,
      "id": "61b2e134-d713-4b2f-8afe-3efce4359ea1",
      "metadata": {
        "id": "61b2e134-d713-4b2f-8afe-3efce4359ea1"
      },
      "outputs": [],
      "source": [
        "conda update mkl"
      ]
    },
    {
      "cell_type": "code",
      "execution_count": null,
      "id": "20ae5c5b-d750-4dde-bfff-c56826ff51d1",
      "metadata": {
        "id": "20ae5c5b-d750-4dde-bfff-c56826ff51d1"
      },
      "outputs": [],
      "source": [
        "conda install numpy"
      ]
    },
    {
      "cell_type": "code",
      "execution_count": null,
      "id": "40128664-2a48-4d00-904b-effb4d947235",
      "metadata": {
        "id": "40128664-2a48-4d00-904b-effb4d947235"
      },
      "outputs": [],
      "source": [
        "conda install -c intel mkl"
      ]
    },
    {
      "cell_type": "code",
      "execution_count": null,
      "id": "bbbb6330-e8ac-4517-82c2-357c19e980b1",
      "metadata": {
        "id": "bbbb6330-e8ac-4517-82c2-357c19e980b1"
      },
      "outputs": [],
      "source": [
        "conda install tensorflow"
      ]
    },
    {
      "cell_type": "code",
      "execution_count": null,
      "id": "9ac9b803-58f3-4fd5-8acf-19409c80ec31",
      "metadata": {
        "id": "9ac9b803-58f3-4fd5-8acf-19409c80ec31"
      },
      "outputs": [],
      "source": [
        "conda install sklearn.model_selection"
      ]
    },
    {
      "cell_type": "code",
      "execution_count": null,
      "id": "fc2fe624-0cfa-49c5-883a-909f766d10e0",
      "metadata": {
        "id": "fc2fe624-0cfa-49c5-883a-909f766d10e0"
      },
      "outputs": [],
      "source": [
        "import os\n",
        "os.environ['KMP_DUPLICATE_LIB_OK']='True'"
      ]
    },
    {
      "cell_type": "code",
      "execution_count": null,
      "id": "2368b8a1-2fc4-4250-a98a-6f201d3204d7",
      "metadata": {
        "id": "2368b8a1-2fc4-4250-a98a-6f201d3204d7"
      },
      "outputs": [],
      "source": [
        "conda install -c anaconda keras"
      ]
    },
    {
      "cell_type": "code",
      "execution_count": null,
      "id": "d2ef4012-16bd-44ad-98ff-ed0ff3518c7f",
      "metadata": {
        "id": "d2ef4012-16bd-44ad-98ff-ed0ff3518c7f"
      },
      "outputs": [],
      "source": [
        "pip uninstall mpi4py"
      ]
    },
    {
      "cell_type": "code",
      "execution_count": null,
      "id": "206417be-bab2-41ce-aec2-ec7cbfe84b0b",
      "metadata": {
        "id": "206417be-bab2-41ce-aec2-ec7cbfe84b0b"
      },
      "outputs": [],
      "source": [
        "#splitting data\n",
        "from sklearn.model_selection import train_test_split\n",
        "x = np.array(data[[\"Delivery_person_Age\",\n",
        "                   \"Delivery_person_Ratings\",\n",
        "                   \"distance\"]])\n",
        "y = np.array(data[[\"Time_taken(min)\"]])\n",
        "xtrain, xtest, ytrain, ytest = train_test_split(x, y,\n",
        "                                                test_size=0.10,\n",
        "                                                random_state=42)\n",
        "\n",
        "# creating the LSTM neural network model\n",
        "from keras.models import Sequential\n",
        "from keras.layers import Dense, LSTM\n",
        "model = Sequential()\n",
        "model.add(LSTM(128, return_sequences=True, input_shape= (xtrain.shape[1], 1)))\n",
        "model.add(LSTM(64, return_sequences=False))\n",
        "model.add(Dense(25))\n",
        "model.add(Dense(1))\n",
        "model.summary()"
      ]
    },
    {
      "cell_type": "code",
      "execution_count": null,
      "id": "553d383f-4917-4ab7-a36c-480e8e678a19",
      "metadata": {
        "id": "553d383f-4917-4ab7-a36c-480e8e678a19"
      },
      "outputs": [],
      "source": [
        "import pandas as pd\n",
        "import numpy as np\n",
        "\n",
        "# Load your existing data\n",
        "data = pd.read_csv('deliverytime.txt')  # Replace with your actual file path\n",
        "data.columns = data.columns.str.strip()  # Clean up any whitespace\n",
        "\n",
        "# Print the column names to understand the structure\n",
        "print(data.columns)\n",
        "\n",
        "# Assuming you found the correct column names for latitude and longitude\n",
        "def calculate_distance(row):\n",
        "    return np.sqrt((row['end_latitude'] - row['start_latitude'])**2 +\n",
        "                   (row['end_longitude'] - row['start_longitude'])**2)\n",
        "\n",
        "# Add the distance column\n",
        "data['distance'] = data.apply(calculate_distance, axis=1)\n",
        "\n",
        "# Save the updated DataFrame back to the text file\n",
        "data.to_csv('deliverytime.txt', index=False)\n",
        "\n",
        "# Proceed with your model code\n",
        "from sklearn.model_selection import train_test_split\n",
        "from sklearn.ensemble import RandomForestRegressor\n",
        "from sklearn.metrics import mean_squared_error\n",
        "\n",
        "# Prepare features and target variable\n",
        "X = data[['Delivery_person_Age', 'Delivery_person_Ratings', 'distance']]\n",
        "y = data['Time_taken(min)']\n",
        "\n",
        "# Split the data\n",
        "X_train, X_test, y_train, y_test = train_test_split(X, y, test_size=0.2, random_state=42)\n",
        "\n",
        "# Create and train the model\n",
        "model = RandomForestRegressor(n_estimators=100, random_state=42)\n",
        "model.fit(X_train, y_train)\n",
        "\n",
        "# Make predictions\n",
        "y_pred = model.predict(X_test)\n",
        "\n",
        "# Evaluate the model\n",
        "mse = mean_squared_error(y_test, y_pred)\n",
        "print(f'Mean Squared Error: {mse}')\n"
      ]
    },
    {
      "cell_type": "code",
      "execution_count": null,
      "id": "62b4dba5-dbf4-4cba-8392-41da5a9515bf",
      "metadata": {
        "id": "62b4dba5-dbf4-4cba-8392-41da5a9515bf"
      },
      "outputs": [],
      "source": [
        "conda update mkl"
      ]
    },
    {
      "cell_type": "code",
      "execution_count": null,
      "id": "a7e4bf8d-b7a1-48b5-a4fa-1e125e11d226",
      "metadata": {
        "id": "a7e4bf8d-b7a1-48b5-a4fa-1e125e11d226"
      },
      "outputs": [],
      "source": [
        "\n"
      ]
    },
    {
      "cell_type": "code",
      "execution_count": null,
      "metadata": {
        "id": "UQKT-wvKF8yt"
      },
      "outputs": [],
      "source": [
        "# Compile the model\n",
        "model.compile(optimizer='adam', loss='mean_squared_error')\n",
        "\n",
        "# Fit the model\n",
        "model.fit(X_train_reshaped, y_train, epochs=10, batch_size=32)\n",
        "\n",
        "# Evaluate the model\n",
        "loss = model.evaluate(X_test_reshaped, y_test)\n",
        "print(\"Test Loss:\", loss)\n",
        "\n",
        "# Prediction based on user input\n",
        "a = int(input(\"Age of Delivery Partner: \"))\n",
        "b = float(input(\"Ratings of Previous Deliveries: \"))\n",
        "c = int(input(\"Total Distance: \"))\n",
        "\n",
        "# Prepare the features for prediction\n",
        "features = np.array([[a, b, c]])  # Make sure to use double brackets\n",
        "\n",
        "# Reshape the features for LSTM\n",
        "features_reshaped = features.reshape(features.shape[0], 1, features.shape[1])\n",
        "\n",
        "# Make the prediction\n",
        "predicted_time = model.predict(features_reshaped)\n",
        "\n",
        "print(\"Predicted Delivery Time in Minutes:\", predicted_time[0][0])\n"
      ],
      "id": "UQKT-wvKF8yt"
    },
    {
      "cell_type": "code",
      "execution_count": null,
      "id": "a601ef78-3f2b-4fc4-8eca-91bbfff8bbba",
      "metadata": {
        "id": "a601ef78-3f2b-4fc4-8eca-91bbfff8bbba"
      },
      "outputs": [],
      "source": [
        "pip install --upgrade tensorflow keras"
      ]
    },
    {
      "cell_type": "code",
      "execution_count": null,
      "id": "bf5b1321-ca16-42ea-97f9-a807bed6fcfc",
      "metadata": {
        "id": "bf5b1321-ca16-42ea-97f9-a807bed6fcfc"
      },
      "outputs": [],
      "source": [
        "python3 -m venv env\n",
        "source env/bin/activate\n",
        "pip install pandas numpy scikit-learn tensorflow"
      ]
    },
    {
      "cell_type": "code",
      "execution_count": null,
      "id": "8d92481d-928c-4997-886e-6adc5a1fa976",
      "metadata": {
        "id": "8d92481d-928c-4997-886e-6adc5a1fa976"
      },
      "outputs": [],
      "source": [
        "python3 -m venv env\n",
        "source env/bin/activate"
      ]
    },
    {
      "cell_type": "code",
      "execution_count": null,
      "id": "8c44ec6d-025c-4f3b-b2a7-e7315b14867c",
      "metadata": {
        "id": "8c44ec6d-025c-4f3b-b2a7-e7315b14867c"
      },
      "outputs": [],
      "source": [
        "pip install pandas numpy scikit-learn tensorflow"
      ]
    },
    {
      "cell_type": "code",
      "execution_count": null,
      "id": "acaf8309-c195-4a4b-b978-e4e3c5d4ae05",
      "metadata": {
        "id": "acaf8309-c195-4a4b-b978-e4e3c5d4ae05"
      },
      "outputs": [],
      "source": [
        "import pandas as pd\n",
        "import numpy as np\n",
        "from sklearn.model_selection import train_test_split\n",
        "\n",
        "# Load the dataset\n",
        "data = pd.read_csv('deliverytime.txt', delimiter=',')\n",
        "\n",
        "# Check the column names\n",
        "print(data.columns)\n",
        "\n",
        "# Define features (X) and target (y)\n",
        "X = np.array(data[['Delivery_person_Age', 'Delivery_person_Ratings', 'distance']])\n",
        "y = np.array(data[['Time_taken(min)']])\n",
        "\n",
        "# Split the dataset into training and testing sets\n",
        "X_train, X_test, y_train, y_test = train_test_split(X, y, test_size=0.10, random_state=42)\n",
        "\n",
        "print(\"X_train shape:\", X_train.shape)\n",
        "print(\"y_train shape:\", y_train.shape)"
      ]
    },
    {
      "cell_type": "code",
      "source": [],
      "metadata": {
        "id": "DgODZPweFwC2"
      },
      "id": "DgODZPweFwC2",
      "execution_count": null,
      "outputs": []
    },
    {
      "cell_type": "code",
      "source": [
        "from google.colab import drive\n",
        "drive.mount('/content/drive')"
      ],
      "metadata": {
        "id": "E9x1VdNMBXYN"
      },
      "id": "E9x1VdNMBXYN",
      "execution_count": null,
      "outputs": []
    },
    {
      "cell_type": "code",
      "execution_count": null,
      "id": "e14be9fa-61fa-435e-969b-60aeb60fe038",
      "metadata": {
        "id": "e14be9fa-61fa-435e-969b-60aeb60fe038"
      },
      "outputs": [],
      "source": [
        "from keras.models import Sequential\n",
        "from keras.layers import Dense, LSTM\n",
        "\n",
        "# Reshape the input data for LSTM\n",
        "# LSTM expects input shape as (samples, time steps, features)\n",
        "# Since we don't have a time dimension in your features, we can set time steps to 1.\n",
        "X_train_reshaped = X_train.reshape(X_train.shape[0], 1, X_train.shape[1])\n",
        "X_test_reshaped = X_test.reshape(X_test.shape[0], 1, X_test.shape[1])\n",
        "\n",
        "# Define the LSTM model\n",
        "model = Sequential()\n",
        "model.add(LSTM(128, return_sequences=True, input_shape=(X_train_reshaped.shape[1], X_train_reshaped.shape[2])))\n",
        "model.add(LSTM(64, return_sequences=False))\n",
        "model.add(Dense(25))  # Add more layers or units as needed\n",
        "model.add(Dense(1))  # Final output layer for regression\n",
        "\n",
        "# Compile the model\n",
        "model.compile(optimizer='adam', loss='mean_squared_error')\n",
        "\n",
        "# Summary of the model\n",
        "model.summary()\n",
        "\n",
        "# Fit the model (you can adjust epochs and batch_size as needed)\n",
        "model.fit(X_train_reshaped, y_train, epochs=10, batch_size=32)\n",
        "\n",
        "# Evaluate the model (you can change the metric if needed)\n",
        "loss = model.evaluate(X_test_reshaped, y_test)\n",
        "print(\"Test Loss:\", loss)\n"
      ]
    },
    {
      "cell_type": "code",
      "source": [
        "from google.colab import files\n",
        "\n",
        "# This will prompt you to upload the file from your local machine\n",
        "uploaded = files.upload()\n",
        "\n",
        "# Once uploaded, load the dataset using pandas\n",
        "import pandas as pd\n",
        "import io\n",
        "\n",
        "# Adjust 'deliverytime.txt' to match the uploaded filename\n",
        "data = pd.read_csv(io.BytesIO(uploaded['deliverytime.txt']), delimiter=',')\n"
      ],
      "metadata": {
        "id": "bAzbgjBA8byz"
      },
      "id": "bAzbgjBA8byz",
      "execution_count": null,
      "outputs": []
    }
  ],
  "metadata": {
    "kernelspec": {
      "display_name": "Python 3 (ipykernel)",
      "language": "python",
      "name": "python3"
    },
    "language_info": {
      "codemirror_mode": {
        "name": "ipython",
        "version": 3
      },
      "file_extension": ".py",
      "mimetype": "text/x-python",
      "name": "python",
      "nbconvert_exporter": "python",
      "pygments_lexer": "ipython3",
      "version": "3.12.4"
    },
    "colab": {
      "provenance": []
    }
  },
  "nbformat": 4,
  "nbformat_minor": 5
}